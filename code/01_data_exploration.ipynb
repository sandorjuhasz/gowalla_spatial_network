{
 "cells": [
  {
   "cell_type": "code",
   "execution_count": 1,
   "metadata": {},
   "outputs": [],
   "source": [
    "import pandas as pd\n",
    "import matplotlib.pyplot as plt\n",
    "import numpy as np\n",
    "\n",
    "import geopandas as gpd\n",
    "from shapely.geometry import Point, Polygon, LineString\n",
    "import h3\n",
    "\n",
    "import time\n",
    "import datetime"
   ]
  },
  {
   "cell_type": "markdown",
   "metadata": {},
   "source": [
    "**1 -- home detection based on h3 hexagons**"
   ]
  },
  {
   "cell_type": "code",
   "execution_count": 2,
   "metadata": {},
   "outputs": [],
   "source": [
    "# parameters\n",
    "h3_resolution = 10\n",
    "minimum_checkins = 10"
   ]
  },
  {
   "cell_type": "code",
   "execution_count": 3,
   "metadata": {},
   "outputs": [],
   "source": [
    "# check-in data\n",
    "cdf = pd.read_csv(\"../data/Gowalla_totalCheckins.txt\", sep=\"\\t\", header=None)\n",
    "cdf.columns = [\"user\", \"checkin_time\", \"lat\", \"lon\", \"location_id\"]"
   ]
  },
  {
   "cell_type": "code",
   "execution_count": 4,
   "metadata": {},
   "outputs": [],
   "source": [
    "# create an hour column\n",
    "cdf[\"checkin_time\"] = pd.to_datetime(cdf[\"checkin_time\"])\n",
    "cdf[\"hour\"] = cdf[\"checkin_time\"].dt.hour"
   ]
  },
  {
   "cell_type": "code",
   "execution_count": 5,
   "metadata": {},
   "outputs": [],
   "source": [
    "def coords_to_point(lat, lon):\n",
    "    \"\"\"create Point geometry from lat, lon columns\"\"\"\n",
    "    geometry = [Point(xy) for xy in zip(lon, lat)]\n",
    "    return geometry\n",
    "\n",
    "def point_geometry_to_h3(geodf, geometry_col, h3_resolution):\n",
    "    \"\"\"h3 from Point geometry\"\"\"\n",
    "    h3_col = geodf.apply(lambda r: h3.geo_to_h3(r[geometry_col].y, r[geometry_col].x, h3_resolution), axis=1)\n",
    "    return h3_col\n"
   ]
  },
  {
   "cell_type": "code",
   "execution_count": 6,
   "metadata": {},
   "outputs": [],
   "source": [
    "# filter cdf by input parameters\n",
    "cdf[\"nr_locations\"] = cdf.groupby([\"user\"])[\"location_id\"].transform(\"nunique\")\n",
    "lcdf = cdf[cdf[\"nr_locations\"] >= minimum_checkins]"
   ]
  },
  {
   "cell_type": "code",
   "execution_count": 7,
   "metadata": {},
   "outputs": [
    {
     "name": "stderr",
     "output_type": "stream",
     "text": [
      "/var/folders/9d/8j37_fks51x11mk0_zwqsd940000gn/T/ipykernel_30853/3823937718.py:3: SettingWithCopyWarning: \n",
      "A value is trying to be set on a copy of a slice from a DataFrame.\n",
      "Try using .loc[row_indexer,col_indexer] = value instead\n",
      "\n",
      "See the caveats in the documentation: https://pandas.pydata.org/pandas-docs/stable/user_guide/indexing.html#returning-a-view-versus-a-copy\n",
      "  lcdf[\"point_geom\"] = coords_to_point(lcdf[\"lat\"], lcdf[\"lon\"])\n"
     ]
    },
    {
     "name": "stdout",
     "output_type": "stream",
     "text": [
      "--- 83.141 seconds ---\n"
     ]
    },
    {
     "name": "stderr",
     "output_type": "stream",
     "text": [
      "/var/folders/9d/8j37_fks51x11mk0_zwqsd940000gn/T/ipykernel_30853/3823937718.py:4: SettingWithCopyWarning: \n",
      "A value is trying to be set on a copy of a slice from a DataFrame.\n",
      "Try using .loc[row_indexer,col_indexer] = value instead\n",
      "\n",
      "See the caveats in the documentation: https://pandas.pydata.org/pandas-docs/stable/user_guide/indexing.html#returning-a-view-versus-a-copy\n",
      "  lcdf[\"h3\"] = point_geometry_to_h3(lcdf, geometry_col=\"point_geom\", h3_resolution=h3_resolution)\n"
     ]
    }
   ],
   "source": [
    "# construct h3 codes\n",
    "start_time = time.time()\n",
    "lcdf[\"point_geom\"] = coords_to_point(lcdf[\"lat\"], lcdf[\"lon\"])\n",
    "lcdf[\"h3\"] = point_geometry_to_h3(lcdf, geometry_col=\"point_geom\", h3_resolution=h3_resolution)\n",
    "print(\"--- %s seconds ---\" % round((time.time() - start_time), 3))"
   ]
  },
  {
   "cell_type": "code",
   "execution_count": 8,
   "metadata": {},
   "outputs": [],
   "source": [
    "# select the most visited h3 by user\n",
    "def home_table(df, min_locations_in_h3, min_visits_in_h3):\n",
    "    \"\"\"function to select home h3 of users\"\"\"\n",
    "    \n",
    "    # variables to support selection\n",
    "    h3_selection = df.groupby([\"user\", \"h3\"]).agg(\n",
    "        locations_in_h3 = pd.NamedAgg(\"location_id\", \"nunique\"),\n",
    "        visits_in_h3 = pd.NamedAgg(\"location_id\", \"count\")\n",
    "        ).reset_index()\n",
    "\n",
    "    h3_selection[\"max_locations_in_h3\"] = h3_selection.groupby([\"user\"])[\"locations_in_h3\"].transform(\"max\")\n",
    "    h3_selection[\"max_visits_in_h3\"] = h3_selection.groupby([\"user\"])[\"visits_in_h3\"].transform(\"max\")\n",
    "\n",
    "    # filter\n",
    "    h3_selection = h3_selection[\n",
    "        (h3_selection[\"visits_in_h3\"] == h3_selection[\"max_visits_in_h3\"]) &\n",
    "        (h3_selection[\"max_locations_in_h3\"] >= min_locations_in_h3) &\n",
    "        (h3_selection[\"max_visits_in_h3\"] >= min_visits_in_h3)\n",
    "    ]\n",
    "    \n",
    "    return h3_selection"
   ]
  },
  {
   "cell_type": "code",
   "execution_count": 9,
   "metadata": {},
   "outputs": [],
   "source": [
    "# no home hours focus\n",
    "home_df = home_table(lcdf, min_locations_in_h3=1, min_visits_in_h3=5)\n",
    "\n",
    "# export\n",
    "home_df.to_csv(\"../outputs/home_location.csv\", sep=\";\", index=False)"
   ]
  },
  {
   "cell_type": "code",
   "execution_count": 10,
   "metadata": {},
   "outputs": [],
   "source": [
    "# filter for checkins in home hours -- same as for the twitter data\n",
    "hh_lcdf = lcdf[\n",
    "    (lcdf[\"hour\"] >= 20) |\n",
    "    (lcdf[\"hour\"] <= 7)\n",
    "]\n",
    "\n",
    "home_df2 = home_table(hh_lcdf, min_locations_in_h3=1, min_visits_in_h3=5)\n",
    "\n",
    "# export\n",
    "home_df2.to_csv(\"../outputs/home_location.csv\", sep=\";\", index=False)"
   ]
  },
  {
   "cell_type": "markdown",
   "metadata": {},
   "source": [
    "**add home locations to edgelist**"
   ]
  },
  {
   "cell_type": "code",
   "execution_count": null,
   "metadata": {},
   "outputs": [],
   "source": [
    "# edgelist\n",
    "edf = pd.read_csv(\"../data/Gowalla_edges.txt\", sep=\"\\t\")\n",
    "edf.columns = [\"user1\", \"user2\"]"
   ]
  },
  {
   "cell_type": "code",
   "execution_count": null,
   "metadata": {},
   "outputs": [],
   "source": []
  }
 ],
 "metadata": {
  "kernelspec": {
   "display_name": "Python 3 (ipykernel)",
   "language": "python",
   "name": "python3"
  },
  "language_info": {
   "codemirror_mode": {
    "name": "ipython",
    "version": 3
   },
   "file_extension": ".py",
   "mimetype": "text/x-python",
   "name": "python",
   "nbconvert_exporter": "python",
   "pygments_lexer": "ipython3",
   "version": "3.10.8"
  },
  "vscode": {
   "interpreter": {
    "hash": "b0fa6594d8f4cbf19f97940f81e996739fb7646882a419484c72d19e05852a7e"
   }
  }
 },
 "nbformat": 4,
 "nbformat_minor": 2
}
